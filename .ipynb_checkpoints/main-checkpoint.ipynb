{
 "cells": [
  {
   "cell_type": "markdown",
   "id": "3fbef82e",
   "metadata": {},
   "source": [
    "<div dir=\"rtl\">\n",
    "    <h1>بازیابی پیشرفته اطلاعات</h1> \n",
    "    <h2>تمرین سری سوم</h2>\n",
    "    <h4>آرمان محمدی - یاسمن صمدزاده - احمد نصرت‌بخش</h4>\n",
    "    \n",
    "</div>"
   ]
  },
  {
   "cell_type": "markdown",
   "id": "b41bfcd2",
   "metadata": {},
   "source": [
    "<div dir=\"rtl\">\n",
    "</div>"
   ]
  },
  {
   "cell_type": "code",
   "execution_count": 3,
   "id": "fb24f5ed",
   "metadata": {},
   "outputs": [],
   "source": [
    "import json\n",
    "import pandas as pd"
   ]
  },
  {
   "cell_type": "code",
   "execution_count": null,
   "id": "fb745d25",
   "metadata": {},
   "outputs": [],
   "source": []
  },
  {
   "cell_type": "code",
   "execution_count": 131,
   "id": "10e0192b",
   "metadata": {},
   "outputs": [],
   "source": [
    "# donya-e-eqtesad data\n",
    "data_frames = []\n",
    "for i in range(5):\n",
    "  f = open(f'./data/financial/donya-e-eqtesad-{i+1}.json',encoding='utf-8')\n",
    "  data = json.load(f)\n",
    "  df = pd.json_normalize(data) \n",
    "  data_frames.append(df)\n",
    "result = pd.concat(data_frames)\n",
    "result['source'] = 'donya-e-eqtesad'\n",
    "text_splitter = ''\n",
    "paragraph_splitter = '\\n\\n'\n",
    "content = [paragraph_splitter.join([text_splitter.join(paragraph) for paragraph in list(paragraphs)]) for paragraphs in result['paragraphs']]\n",
    "result['content'] = content\n",
    "result = result.iloc[0:1500, [2, 4, 7, 1, 3, 6, 0]]"
   ]
  },
  {
   "cell_type": "code",
   "execution_count": null,
   "id": "7554df92",
   "metadata": {},
   "outputs": [],
   "source": [
    "from nltk import FreqDist\n",
    "import itertools\n",
    "all_tokens = dict()\n"
   ]
  },
  {
   "cell_type": "code",
   "execution_count": null,
   "id": "0dc5c9ab",
   "metadata": {},
   "outputs": [],
   "source": [
    "# frequency analysis"
   ]
  },
  {
   "cell_type": "code",
   "execution_count": null,
   "id": "2469ade2",
   "metadata": {},
   "outputs": [],
   "source": [
    "# normalize and tokenize"
   ]
  },
  {
   "cell_type": "code",
   "execution_count": 2,
   "id": "1d9645ff",
   "metadata": {},
   "outputs": [],
   "source": [
    "# lemmatize"
   ]
  }
 ],
 "metadata": {
  "kernelspec": {
   "display_name": "Python 3",
   "language": "python",
   "name": "python3"
  },
  "language_info": {
   "codemirror_mode": {
    "name": "ipython",
    "version": 3
   },
   "file_extension": ".py",
   "mimetype": "text/x-python",
   "name": "python",
   "nbconvert_exporter": "python",
   "pygments_lexer": "ipython3",
   "version": "3.8.5"
  }
 },
 "nbformat": 4,
 "nbformat_minor": 5
}
