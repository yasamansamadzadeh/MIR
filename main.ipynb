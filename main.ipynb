{
 "cells": [
  {
   "cell_type": "markdown",
   "id": "96c0e944",
   "metadata": {},
   "source": [
    "<div dir=\"rtl\">\n",
    "    <h1>بازیابی پیشرفته اطلاعات</h1> \n",
    "    <h2>تمرین سری سوم</h2>\n",
    "    <h4>آرمان محمدی - یاسمن صمدزاده - احمد نصرت‌بخش</h4>\n",
    "    \n",
    "</div>"
   ]
  },
  {
   "cell_type": "markdown",
   "id": "d917bf01",
   "metadata": {},
   "source": [
    "<div dir=\"rtl\">\n",
    "</div>"
   ]
  },
  {
   "cell_type": "code",
   "execution_count": 3,
   "id": "6e56bd33",
   "metadata": {},
   "outputs": [],
   "source": [
    "import json\n",
    "import pandas as pd"
   ]
  },
  {
   "cell_type": "code",
   "execution_count": null,
   "id": "9dd34d3e",
   "metadata": {},
   "outputs": [],
   "source": []
  },
  {
   "cell_type": "code",
   "execution_count": 134,
   "id": "59bc93a7",
   "metadata": {},
   "outputs": [],
   "source": [
    "# donya-e-eqtesad data\n",
    "data_frames = []\n",
    "for i in range(5):\n",
    "  f = open(f'./data/financial/donya-e-eqtesad-{i+1}.json',encoding='utf-8')\n",
    "  data = json.load(f)\n",
    "  df = pd.json_normalize(data) \n",
    "  data_frames.append(df)\n",
    "dictionary = pd.concat(data_frames)\n",
    "result['source'] = 'donya-e-eqtesad'\n",
    "text_splitter = ''\n",
    "paragraph_splitter = '\\n\\n'\n",
    "content = [paragraph_splitter.join([text_splitter.join(paragraph) for paragraph in list(paragraphs)]) for paragraphs in result['paragraphs']]\n",
    "result['content'] = content\n",
    "result = result.iloc[0:1500, [2, 4, 7, 1, 3, 6, 0]]"
   ]
  },
  {
   "cell_type": "code",
   "execution_count": null,
   "id": "4516901e",
   "metadata": {},
   "outputs": [],
   "source": []
  },
  {
   "cell_type": "code",
   "execution_count": null,
   "id": "c5bc7622",
   "metadata": {},
   "outputs": [],
   "source": [
    "from nltk import FreqDist\n",
    "import itertools\n",
    "all_tokens = dict()\n"
   ]
  },
  {
   "cell_type": "code",
   "execution_count": null,
   "id": "e89abcfe",
   "metadata": {},
   "outputs": [],
   "source": [
    "# frequency analysis"
   ]
  },
  {
   "cell_type": "code",
   "execution_count": null,
   "id": "d3add2f8",
   "metadata": {},
   "outputs": [],
   "source": [
    "# normalize and tokenize"
   ]
  },
  {
   "cell_type": "code",
   "execution_count": 2,
   "id": "5a9f9156",
   "metadata": {},
   "outputs": [],
   "source": [
    "# lemmatize"
   ]
  }
 ],
 "metadata": {
  "kernelspec": {
   "display_name": "Python 3",
   "language": "python",
   "name": "python3"
  },
  "language_info": {
   "codemirror_mode": {
    "name": "ipython",
    "version": 3
   },
   "file_extension": ".py",
   "mimetype": "text/x-python",
   "name": "python",
   "nbconvert_exporter": "python",
   "pygments_lexer": "ipython3",
   "version": "3.8.5"
  }
 },
 "nbformat": 4,
 "nbformat_minor": 5
}
