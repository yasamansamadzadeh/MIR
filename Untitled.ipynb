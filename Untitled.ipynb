{
 "cells": [
  {
   "cell_type": "markdown",
   "id": "5f41a3d0",
   "metadata": {},
   "source": [
    "<div dir=\"rtl\">\n",
    "    <h1>بازیابی پیشرفته اطلاعات</h1> \n",
    "    <h2>تمرین سری سوم</h2>\n",
    "    <h4>آرمان محمدی - یاسمن صمدزاده - احمد نصرت‌بخش</h4>\n",
    "    \n",
    "</div>"
   ]
  },
  {
   "cell_type": "markdown",
   "id": "e14723bb",
   "metadata": {},
   "source": [
    "<div dir=\"rtl\">\n",
    "</div>"
   ]
  },
  {
   "cell_type": "code",
   "execution_count": 1,
   "id": "ca95f12d",
   "metadata": {},
   "outputs": [],
   "source": [
    "# fetch data"
   ]
  },
  {
   "cell_type": "code",
   "execution_count": null,
   "id": "16a347de",
   "metadata": {},
   "outputs": [],
   "source": [
    "# frequency analysis"
   ]
  },
  {
   "cell_type": "code",
   "execution_count": null,
   "id": "b7354881",
   "metadata": {},
   "outputs": [],
   "source": [
    "# normalize and tokenize"
   ]
  },
  {
   "cell_type": "code",
   "execution_count": 2,
   "id": "0f439191",
   "metadata": {},
   "outputs": [],
   "source": [
    "# lemmatize"
   ]
  }
 ],
 "metadata": {
  "kernelspec": {
   "display_name": "Python 3",
   "language": "python",
   "name": "python3"
  },
  "language_info": {
   "codemirror_mode": {
    "name": "ipython",
    "version": 3
   },
   "file_extension": ".py",
   "mimetype": "text/x-python",
   "name": "python",
   "nbconvert_exporter": "python",
   "pygments_lexer": "ipython3",
   "version": "3.8.5"
  }
 },
 "nbformat": 4,
 "nbformat_minor": 5
}
